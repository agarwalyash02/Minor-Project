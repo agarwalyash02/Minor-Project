{
 "cells": [
  {
   "cell_type": "code",
   "execution_count": 1,
   "metadata": {},
   "outputs": [
    {
     "name": "stderr",
     "output_type": "stream",
     "text": [
      "Using TensorFlow backend.\n"
     ]
    }
   ],
   "source": [
    "import numpy as np\n",
    "import pickle\n",
    "from keras.applications.resnet50 import ResNet50, preprocess_input\n",
    "from keras.preprocessing import image\n",
    "from keras.models import load_model\n",
    "from keras.preprocessing.sequence import pad_sequences\n",
    "import matplotlib.pyplot as plt\n",
    "from nltk.translate.bleu_score import corpus_bleu"
   ]
  },
  {
   "cell_type": "code",
   "execution_count": 2,
   "metadata": {},
   "outputs": [],
   "source": [
    "with open(\"../saved_models and files/word_to_idx.pkl\",\"rb\") as w2i:\n",
    "    word_to_idx=pickle.load(w2i)\n",
    "with open(\"../saved_models and files/idx_to_word.pkl\",\"rb\") as i2w:\n",
    "    idx_to_word=pickle.load(i2w)\n",
    "with open(\"../saved_models and files/test_featured_image.pkl\",\"rb\") as tfi:\n",
    "    test_featured_image=pickle.load(tfi)\n",
    "with open(\"../saved_models and files/test_description.pkl\",\"rb\") as td:\n",
    "    test_description=pickle.load(td)\n",
    "with open(\"../saved_models and files/train_featured_image.pkl\",\"rb\") as tfi:\n",
    "    train_featured_image=pickle.load(tfi)"
   ]
  },
  {
   "cell_type": "code",
   "execution_count": 13,
   "metadata": {},
   "outputs": [
    {
     "name": "stderr",
     "output_type": "stream",
     "text": [
      "C:\\Users\\yash\\Anaconda3\\lib\\site-packages\\tensorflow_core\\python\\framework\\indexed_slices.py:433: UserWarning: Converting sparse IndexedSlices to a dense Tensor of unknown shape. This may consume a large amount of memory.\n",
      "  \"Converting sparse IndexedSlices to a dense Tensor of unknown shape. \"\n"
     ]
    }
   ],
   "source": [
    "model = load_model('../save_model_weight4/model_12.h5')"
   ]
  },
  {
   "cell_type": "code",
   "execution_count": 14,
   "metadata": {},
   "outputs": [],
   "source": [
    "max_len=35\n",
    "def predict_caption(photo):\n",
    "    in_text=\"startseq\"\n",
    "    for i in range(max_len):\n",
    "        sequence = [word_to_idx[w] for w in in_text.split() if w in word_to_idx]\n",
    "        sequence = pad_sequences([sequence],maxlen=max_len,padding='post')\n",
    "        \n",
    "        y_pred = model.predict([photo,sequence])\n",
    "        y_pred = y_pred.argmax()\n",
    "        word = idx_to_word[y_pred]\n",
    "        in_text+=(' '+word)\n",
    "\n",
    "        if word == 'endseq':\n",
    "            break\n",
    "    final_caption = in_text.split()[1:-1]\n",
    "    final_caption = ' '.join(final_caption)\n",
    "    return final_caption"
   ]
  },
  {
   "cell_type": "code",
   "execution_count": 15,
   "metadata": {},
   "outputs": [],
   "source": [
    "def evaluate_model():\n",
    "    actual, predicted = list(), list()\n",
    "# step over the whole set\n",
    "    for key, desc_list in test_description.items():\n",
    "        photo_2048 = test_featured_image[key].reshape((1,2048))\n",
    "    # generate description\n",
    "        yhat = predict_caption(photo_2048)\n",
    "    # store actual and predicted\n",
    "        references = [d.split() for d in desc_list]\n",
    "        actual.append(references)\n",
    "        predicted.append(yhat.split())\n",
    "    # calculate BLEU score\n",
    "    print('BLEU-1: %f' % corpus_bleu(actual, predicted, weights=(1.0, 0, 0, 0)))\n",
    "    print('BLEU-2: %f' % corpus_bleu(actual, predicted, weights=(0.5, 0.5, 0, 0)))\n",
    "    print('BLEU-3: %f' % corpus_bleu(actual, predicted, weights=(0.3, 0.3, 0.3, 0)))\n",
    "    print('BLEU-4: %f' % corpus_bleu(actual, predicted, weights=(0.25, 0.25, 0.25, 0.25)))"
   ]
  },
  {
   "cell_type": "code",
   "execution_count": 16,
   "metadata": {},
   "outputs": [
    {
     "name": "stdout",
     "output_type": "stream",
     "text": [
      "BLEU-1: 0.420399\n",
      "BLEU-2: 0.222130\n",
      "BLEU-3: 0.142831\n",
      "BLEU-4: 0.060948\n"
     ]
    }
   ],
   "source": [
    "evaluate_model()"
   ]
  },
  {
   "cell_type": "markdown",
   "metadata": {},
   "source": [
    "<img src=\"score.png\">"
   ]
  },
  {
   "cell_type": "code",
   "execution_count": null,
   "metadata": {},
   "outputs": [],
   "source": [
    "plt.style.use('seaborn')\n",
    "for i in range(20):\n",
    "    idx = np.random.randint(0,5000)\n",
    "    all_img_names = list(test_featured_image.keys())\n",
    "    img_name = all_img_names[idx]\n",
    "    photo_2048 = test_featured_image[img_name].reshape((1,2048))\n",
    "\n",
    "    i=plt.imread(\"../flickr30k_images/flickr30k_images/\"+img_name)\n",
    "\n",
    "    caption = predict_caption(photo_2048)\n",
    "\n",
    "    plt.title(caption)\n",
    "    plt.imshow(i)\n",
    "    plt.axis('off')\n",
    "    plt.show()"
   ]
  }
 ],
 "metadata": {
  "kernelspec": {
   "display_name": "Python 3",
   "language": "python",
   "name": "python3"
  },
  "language_info": {
   "codemirror_mode": {
    "name": "ipython",
    "version": 3
   },
   "file_extension": ".py",
   "mimetype": "text/x-python",
   "name": "python",
   "nbconvert_exporter": "python",
   "pygments_lexer": "ipython3",
   "version": "3.7.4"
  }
 },
 "nbformat": 4,
 "nbformat_minor": 2
}
