{
 "cells": [
  {
   "cell_type": "markdown",
   "metadata": {},
   "source": [
    "### using https://stackoverflow.com/questions/27324292/convert-word2vec-bin-file-to-text"
   ]
  },
  {
   "cell_type": "code",
   "execution_count": 1,
   "metadata": {},
   "outputs": [],
   "source": [
    "from gensim.models import word2vec\n",
    "import numpy as np"
   ]
  },
  {
   "cell_type": "code",
   "execution_count": 2,
   "metadata": {},
   "outputs": [],
   "source": [
    "#it is not working it showing use Keyedvectors module\n",
    "#word_vector = word2vec.Word2Vec.load_word2vec_format('../GoogleNews-vectors/GoogleNews-vectors-negative300.bin', binary=True)"
   ]
  },
  {
   "cell_type": "code",
   "execution_count": 2,
   "metadata": {},
   "outputs": [],
   "source": [
    "from gensim.models import KeyedVectors"
   ]
  },
  {
   "cell_type": "code",
   "execution_count": 3,
   "metadata": {},
   "outputs": [],
   "source": [
    "word_vectors = KeyedVectors.load_word2vec_format('../GoogleNews-vectors/GoogleNews-vectors-negative300.bin',binary=True)"
   ]
  },
  {
   "cell_type": "code",
   "execution_count": 4,
   "metadata": {},
   "outputs": [
    {
     "name": "stdout",
     "output_type": "stream",
     "text": [
      "(300,)\n",
      "[-2.71484375e-01  9.22851562e-02  8.78906250e-02  2.39257812e-01\n",
      "  8.97216797e-03  1.36718750e-01  5.98144531e-02 -2.53906250e-01\n",
      " -1.25000000e-01  1.62109375e-01  1.59179688e-01 -1.65039062e-01\n",
      " -6.83593750e-02  1.96289062e-01 -1.64062500e-01  2.22656250e-01\n",
      " -1.09375000e-01 -2.61230469e-02 -2.24609375e-01  1.36718750e-01\n",
      " -2.48046875e-01  1.09863281e-02  1.17187500e-01 -7.08007812e-02\n",
      "  3.14941406e-02 -1.01074219e-01 -6.39648438e-02  5.73730469e-02\n",
      " -2.30712891e-02  1.10839844e-01 -2.22656250e-01 -9.37500000e-02\n",
      " -9.27734375e-02  1.45507812e-01 -2.29492188e-01 -4.61425781e-02\n",
      " -1.50390625e-01 -3.30078125e-01  2.05078125e-01 -1.37695312e-01\n",
      " -1.80664062e-02 -7.61718750e-02 -5.85937500e-02  2.46093750e-01\n",
      " -2.42187500e-01 -3.16406250e-01 -1.57226562e-01 -1.00585938e-01\n",
      "  1.32812500e-01  1.58203125e-01 -1.02539062e-02  1.97265625e-01\n",
      "  1.34765625e-01  7.03125000e-02 -2.08007812e-01 -8.78906250e-02\n",
      "  4.90722656e-02 -2.61230469e-02 -1.18652344e-01 -2.59765625e-01\n",
      " -9.27734375e-02 -1.93359375e-01 -2.96630859e-02  3.90625000e-02\n",
      "  1.94091797e-02 -1.50390625e-01 -9.27734375e-02 -5.00000000e-01\n",
      "  3.53515625e-01 -1.92382812e-01  1.14257812e-01  5.63964844e-02\n",
      " -2.58789062e-02  6.83593750e-02 -3.51562500e-01 -1.44531250e-01\n",
      " -1.72851562e-01 -7.81250000e-02 -1.46484375e-01 -6.49414062e-02\n",
      " -1.72851562e-01  2.53906250e-01 -4.07714844e-02 -3.16406250e-01\n",
      "  4.17480469e-02  4.05273438e-02 -5.00488281e-02  2.06054688e-01\n",
      " -2.53906250e-01 -5.90820312e-02 -5.44433594e-02 -1.50390625e-01\n",
      "  3.88183594e-02 -2.44140625e-01  2.13623047e-02 -2.12402344e-02\n",
      "  2.89062500e-01  2.27539062e-01  2.61718750e-01 -1.39648438e-01\n",
      " -2.50000000e-01 -1.15722656e-01 -2.10937500e-01  1.29882812e-01\n",
      "  5.59082031e-02  1.15722656e-01  6.22558594e-02 -6.01196289e-03\n",
      " -5.76171875e-02 -1.17675781e-01 -3.75000000e-01 -3.20312500e-01\n",
      "  7.71484375e-02 -2.11181641e-02 -1.78710938e-01  2.20703125e-01\n",
      "  5.20019531e-02 -4.33593750e-01 -1.42822266e-02 -2.65625000e-01\n",
      "  1.18652344e-01  1.86523438e-01 -1.83593750e-01 -5.76171875e-02\n",
      " -9.86328125e-02  2.69531250e-01 -7.71484375e-02 -7.37304688e-02\n",
      "  1.74804688e-01  3.59375000e-01 -3.35937500e-01  1.01562500e-01\n",
      "  1.50390625e-01 -3.39843750e-01 -8.78906250e-02  2.24609375e-01\n",
      " -9.03320312e-02 -2.33154297e-02  1.56250000e-01 -1.54296875e-01\n",
      " -6.59179688e-02 -3.02734375e-01 -2.55859375e-01  5.93261719e-02\n",
      "  8.85009766e-03 -3.39355469e-02  9.61914062e-02  1.70898438e-01\n",
      " -3.90625000e-01  1.43432617e-02  1.61132812e-01 -1.79687500e-01\n",
      " -2.85156250e-01  3.24218750e-01 -1.39648438e-01 -2.77343750e-01\n",
      " -1.49414062e-01 -2.36328125e-01 -2.39257812e-01 -2.12890625e-01\n",
      " -3.75000000e-01 -1.96289062e-01  1.75781250e-01  2.61718750e-01\n",
      " -4.93526459e-05 -3.71093750e-01  4.45312500e-01 -1.04003906e-01\n",
      "  1.22070312e-01 -1.20117188e-01 -7.91015625e-02  3.69140625e-01\n",
      " -9.03320312e-02 -2.21679688e-01 -4.82421875e-01 -1.11328125e-01\n",
      "  3.57421875e-01 -9.27734375e-02 -1.85546875e-01  1.96289062e-01\n",
      " -2.14843750e-01 -1.66992188e-01 -3.49609375e-01  1.19140625e-01\n",
      " -2.97851562e-02 -5.00488281e-02  1.06933594e-01 -2.83203125e-02\n",
      "  5.63964844e-02  1.52343750e-01 -1.64062500e-01  1.69921875e-01\n",
      " -2.43164062e-01 -7.12890625e-02  4.02343750e-01  3.20312500e-01\n",
      "  9.08203125e-02  1.65039062e-01 -6.05468750e-02 -2.10937500e-01\n",
      "  1.35742188e-01 -2.12890625e-01  8.64257812e-02 -1.13769531e-01\n",
      " -4.15039062e-02  1.30004883e-02  1.89208984e-02  1.05957031e-01\n",
      "  1.57226562e-01 -1.13769531e-01 -5.50781250e-01  1.74804688e-01\n",
      "  1.84326172e-02  1.62353516e-02  1.04492188e-01  1.49414062e-01\n",
      " -1.23535156e-01 -2.75878906e-02  2.32421875e-01  4.19921875e-01\n",
      "  3.93066406e-02  1.36718750e-01 -1.93359375e-01  3.02734375e-01\n",
      "  2.41210938e-01 -2.13623047e-02  5.61523438e-02  1.81640625e-01\n",
      "  7.95898438e-02  2.59765625e-01 -1.80664062e-01 -1.62109375e-01\n",
      "  3.66210938e-03  3.04687500e-01 -7.22656250e-02 -4.19921875e-01\n",
      " -4.76074219e-02 -1.47460938e-01  9.42382812e-02  7.76367188e-02\n",
      "  1.25732422e-02  9.03320312e-02  1.10351562e-01 -3.46679688e-02\n",
      " -7.76367188e-02 -4.10156250e-01 -1.66992188e-01 -2.13867188e-01\n",
      "  1.40380859e-02  2.01171875e-01 -1.25000000e-01 -1.36718750e-01\n",
      "  4.49218750e-01 -2.34375000e-01  1.61132812e-01 -2.92968750e-01\n",
      " -3.36914062e-02 -6.00585938e-02 -1.80664062e-01 -2.83203125e-01\n",
      "  1.67968750e-01  3.06640625e-01 -1.71875000e-01  1.14135742e-02\n",
      "  6.98242188e-02 -3.26171875e-01 -2.69531250e-01  3.18359375e-01\n",
      " -1.44531250e-01 -3.12500000e-01 -1.60156250e-01  1.40625000e-01\n",
      "  8.78906250e-03 -9.71679688e-02  2.17773438e-01  1.93359375e-01\n",
      " -1.08886719e-01 -3.56445312e-02 -2.11914062e-01  1.58203125e-01\n",
      " -8.98437500e-02  6.10351562e-02  7.17773438e-02 -2.49023438e-01\n",
      "  2.19726562e-01 -2.53906250e-01 -1.89453125e-01 -1.64794922e-02\n",
      " -2.30468750e-01  3.30078125e-01 -3.04687500e-01 -2.73437500e-01\n",
      "  1.43554688e-01 -3.45703125e-01  1.18652344e-01  1.03027344e-01\n",
      "  1.30462646e-03  1.16210938e-01  1.99218750e-01  2.41210938e-01]\n"
     ]
    }
   ],
   "source": [
    "print(word_vectors['mango'].shape)\n",
    "print(word_vectors['mango'])"
   ]
  },
  {
   "cell_type": "code",
   "execution_count": 5,
   "metadata": {},
   "outputs": [],
   "source": [
    "a = np.array(word_vectors['mango'],dtype='float')"
   ]
  },
  {
   "cell_type": "code",
   "execution_count": 6,
   "metadata": {},
   "outputs": [
    {
     "data": {
      "text/plain": [
       "300"
      ]
     },
     "execution_count": 6,
     "metadata": {},
     "output_type": "execute_result"
    }
   ],
   "source": [
    "a.shape[0]"
   ]
  },
  {
   "cell_type": "code",
   "execution_count": 7,
   "metadata": {},
   "outputs": [],
   "source": [
    "import pickle"
   ]
  },
  {
   "cell_type": "code",
   "execution_count": 8,
   "metadata": {},
   "outputs": [
    {
     "name": "stdout",
     "output_type": "stream",
     "text": [
      "vocab size 5121\n"
     ]
    }
   ],
   "source": [
    "with open(\"../saved_models and files/word_to_idx.pkl\",\"rb\") as w2i:\n",
    "    word_to_idx=pickle.load(w2i)\n",
    "    \n",
    "# index 0 is for cliping as if dont have words then max words we will place 0 there\n",
    "vocab_size = len(word_to_idx) + 1\n",
    "print(\"vocab size\",vocab_size)"
   ]
  },
  {
   "cell_type": "code",
   "execution_count": 9,
   "metadata": {},
   "outputs": [],
   "source": [
    "a = {1:2,3:4}"
   ]
  },
  {
   "cell_type": "code",
   "execution_count": 10,
   "metadata": {},
   "outputs": [],
   "source": [
    "b = True\n",
    "if 'mango' in word_vectors.vocab:\n",
    "    b = False"
   ]
  },
  {
   "cell_type": "code",
   "execution_count": 11,
   "metadata": {},
   "outputs": [
    {
     "data": {
      "text/plain": [
       "False"
      ]
     },
     "execution_count": 11,
     "metadata": {},
     "output_type": "execute_result"
    }
   ],
   "source": [
    "b"
   ]
  },
  {
   "cell_type": "code",
   "execution_count": null,
   "metadata": {},
   "outputs": [],
   "source": []
  },
  {
   "cell_type": "code",
   "execution_count": 12,
   "metadata": {},
   "outputs": [],
   "source": [
    "def get_embedding_matrix():\n",
    "    emb_dim = 300\n",
    "    matrix = np.zeros((vocab_size,emb_dim))\n",
    "\n",
    "    for word,idx in word_to_idx.items():\n",
    "        \n",
    "        if word in word_vectors.vocab:\n",
    "            matrix[idx] = np.array(word_vectors[word],dtype='float')\n",
    "        else:\n",
    "            print(word)\n",
    "            \n",
    "    return matrix\n"
   ]
  },
  {
   "cell_type": "code",
   "execution_count": 13,
   "metadata": {},
   "outputs": [
    {
     "name": "stdout",
     "output_type": "stream",
     "text": [
      "and\n",
      "of\n",
      "to\n",
      "axe\n",
      "jenga\n",
      "deere\n",
      "kitchenaid\n",
      "breakdances\n",
      "rollerskaters\n",
      "colourful\n",
      "startseq\n",
      "endseq\n"
     ]
    },
    {
     "data": {
      "text/plain": [
       "(5121, 300)"
      ]
     },
     "execution_count": 13,
     "metadata": {},
     "output_type": "execute_result"
    }
   ],
   "source": [
    "embedding_matrix = get_embedding_matrix()\n",
    "embedding_matrix.shape"
   ]
  },
  {
   "cell_type": "code",
   "execution_count": 14,
   "metadata": {},
   "outputs": [
    {
     "data": {
      "text/plain": [
       "array([[ 0.        ,  0.        ,  0.        , ...,  0.        ,\n",
       "         0.        ,  0.        ],\n",
       "       [ 0.0703125 ,  0.08691406,  0.08789062, ..., -0.04760742,\n",
       "         0.01446533, -0.0625    ],\n",
       "       [ 0.08007812,  0.10498047,  0.04980469, ...,  0.00366211,\n",
       "         0.04760742, -0.06884766],\n",
       "       ...,\n",
       "       [-0.04345703, -0.08349609, -0.10302734, ...,  0.23144531,\n",
       "         0.11572266, -0.11132812],\n",
       "       [ 0.        ,  0.        ,  0.        , ...,  0.        ,\n",
       "         0.        ,  0.        ],\n",
       "       [ 0.        ,  0.        ,  0.        , ...,  0.        ,\n",
       "         0.        ,  0.        ]])"
      ]
     },
     "execution_count": 14,
     "metadata": {},
     "output_type": "execute_result"
    }
   ],
   "source": [
    "embedding_matrix"
   ]
  },
  {
   "cell_type": "code",
   "execution_count": 15,
   "metadata": {},
   "outputs": [],
   "source": [
    "with open(\"../saved_models and files/embedding_matrix.pkl\",\"wb\") as edm:\n",
    "    pickle.dump(embedding_matrix,edm)"
   ]
  },
  {
   "cell_type": "code",
   "execution_count": null,
   "metadata": {},
   "outputs": [],
   "source": []
  }
 ],
 "metadata": {
  "kernelspec": {
   "display_name": "Python 3",
   "language": "python",
   "name": "python3"
  },
  "language_info": {
   "codemirror_mode": {
    "name": "ipython",
    "version": 3
   },
   "file_extension": ".py",
   "mimetype": "text/x-python",
   "name": "python",
   "nbconvert_exporter": "python",
   "pygments_lexer": "ipython3",
   "version": "3.7.4"
  }
 },
 "nbformat": 4,
 "nbformat_minor": 2
}
